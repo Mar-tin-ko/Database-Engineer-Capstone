{
 "cells": [
  {
   "cell_type": "code",
   "execution_count": 50,
   "id": "a7d6e438",
   "metadata": {},
   "outputs": [
    {
     "name": "stdout",
     "output_type": "stream",
     "text": [
      "Requirement already satisfied: mysql-connector-python in c:\\users\\martin\\anaconda3\\lib\\site-packages (8.0.31)\n",
      "Requirement already satisfied: protobuf<=3.20.1,>=3.11.0 in c:\\users\\martin\\anaconda3\\lib\\site-packages (from mysql-connector-python) (3.20.1)\n"
     ]
    }
   ],
   "source": [
    "!pip install mysql-connector-python"
   ]
  },
  {
   "cell_type": "code",
   "execution_count": 108,
   "id": "7e7c7fb5",
   "metadata": {},
   "outputs": [],
   "source": [
    "import mysql.connector as connector"
   ]
  },
  {
   "cell_type": "code",
   "execution_count": 114,
   "id": "0ef5bb97",
   "metadata": {},
   "outputs": [],
   "source": [
    "# Configuring MySQL connector:\n",
    "# Connect python with MySQL  \n",
    "connection = connector.connect(user = \"Martin\", password = \"XXX\", db = \"XXX\") \n",
    "# Get cursor object\n",
    "cursor = connection.cursor(buffered=True)"
   ]
  },
  {
   "cell_type": "code",
   "execution_count": 115,
   "id": "2315b602",
   "metadata": {},
   "outputs": [
    {
     "name": "stdout",
     "output_type": "stream",
     "text": [
      "[('bookings',), ('confirmations',), ('customers',), ('employees',), ('menuitems',), ('menus',), ('orders',), ('ordersview',)]\n"
     ]
    }
   ],
   "source": [
    "# Execute basic query\n",
    "cursor.execute(\"\"\"SHOW TABLES\"\"\")\n",
    "\n",
    "# Fetch all the matching rows\n",
    "result = cursor.fetchall()\n",
    "print(result)"
   ]
  },
  {
   "cell_type": "code",
   "execution_count": 143,
   "id": "baf12d0e",
   "metadata": {},
   "outputs": [
    {
     "name": "stdout",
     "output_type": "stream",
     "text": [
      "Data in the \"Order\" table:\n",
      "('OrderID', 'TableNo', 'MenuID', 'BookingID', 'BillAmount', 'Quantity', 'CustomerID')\n",
      "(1, 12, 1, 1, 86, 2, 2)\n",
      "(2, 19, 2, 2, 237, 1, 4)\n",
      "(4, 5, 3, 4, 40, 1, 6)\n",
      "(5, 8, 1, 3, 83, 4, 1)\n"
     ]
    }
   ],
   "source": [
    "# Execute select statement\n",
    "cursor.execute(\"\"\"SELECT * FROM Orders;\"\"\")\n",
    "results = cursor.fetchall()\n",
    "\n",
    "# Retrieve column names\n",
    "cols = cursor.column_names\n",
    "\n",
    "# Print column names and records from results using for loop\n",
    "print(\"\"\"Data in the \"Order\" table:\"\"\")\n",
    "print(cols)\n",
    "\n",
    "for element in results:\n",
    "    print(element) # Returns tuples"
   ]
  },
  {
   "cell_type": "code",
   "execution_count": 145,
   "id": "3a237e23",
   "metadata": {},
   "outputs": [
    {
     "name": "stdout",
     "output_type": "stream",
     "text": [
      "Data in the \"Order\" table:\n",
      "('OrderID', 'TableNo', 'MenuID', 'BookingID', 'BillAmount', 'Quantity', 'CustomerID')\n",
      "(1, 12, 1, 1, 86, 2, 2)\n",
      "(2, 19, 2, 2, 237, 1, 4)\n",
      "(5, 8, 1, 3, 83, 4, 1)\n"
     ]
    }
   ],
   "source": [
    "# Execute select statement with condition\n",
    "cursor.execute(\"\"\"SELECT * FROM Orders WHERE BillAmount > 60;\"\"\")\n",
    "results = cursor.fetchall()\n",
    "\n",
    "# Retrieve column names\n",
    "cols = cursor.column_names\n",
    "\n",
    "# Print column names and records from results using for loop\n",
    "print(\"\"\"Data in the \"Order\" table:\"\"\")\n",
    "print(cols)\n",
    "\n",
    "for element in results:\n",
    "    print(element) # Returns tuples"
   ]
  },
  {
   "cell_type": "code",
   "execution_count": 150,
   "id": "b9005f05",
   "metadata": {},
   "outputs": [
    {
     "name": "stdout",
     "output_type": "stream",
     "text": [
      "Data in the \"Order\" table:\n",
      "('CustomerID', 'FullName', 'Contact_Number', 'Email', 'BillAmount')\n",
      "(2, 'Vanessa Hog-Traumpasten', 49333344, 'vanessa@gmail.com', 86)\n",
      "(4, 'Joakim McGyaver', 433488277, 'joakim@gmail.com', 237)\n",
      "(1, 'Anna Kiesel', 436748822, 'anna@gmail.com', 83)\n"
     ]
    }
   ],
   "source": [
    "# Execute select statement with Join\n",
    "cursor.execute(\"\"\"SELECT Customers.CustomerID, Customers.FullName, Customers.Contact_Number, Customers.Email, Orders.BillAmount FROM Customers INNER JOIN Orders ON Customers.CustomerID = Orders.CustomerID WHERE BillAmount > 60;\"\"\")\n",
    "results = cursor.fetchall()\n",
    "\n",
    "# Retrieve column names\n",
    "cols = cursor.column_names\n",
    "\n",
    "# Print column names and records from results using for loop\n",
    "print(\"\"\"Data in the \"Order\" table:\"\"\")\n",
    "print(cols)\n",
    "\n",
    "for element in results:\n",
    "    print(element) # Returns tuples"
   ]
  },
  {
   "cell_type": "code",
   "execution_count": null,
   "id": "9df5461f",
   "metadata": {},
   "outputs": [],
   "source": []
  }
 ],
 "metadata": {
  "kernelspec": {
   "display_name": "Python 3",
   "language": "python",
   "name": "python3"
  },
  "language_info": {
   "codemirror_mode": {
    "name": "ipython",
    "version": 3
   },
   "file_extension": ".py",
   "mimetype": "text/x-python",
   "name": "python",
   "nbconvert_exporter": "python",
   "pygments_lexer": "ipython3",
   "version": "3.9.0 (tags/v3.9.0:9cf6752, Oct  5 2020, 15:34:40) [MSC v.1927 64 bit (AMD64)]"
  },
  "vscode": {
   "interpreter": {
    "hash": "16df692f1f6e2a1e1ce4185923fc5153d51899e32dce251143dce7d99e9dac23"
   }
  }
 },
 "nbformat": 4,
 "nbformat_minor": 5
}
